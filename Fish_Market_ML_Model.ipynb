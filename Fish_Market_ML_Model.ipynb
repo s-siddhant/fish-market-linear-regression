{
 "cells": [
  {
   "cell_type": "markdown",
   "id": "478ce13d",
   "metadata": {},
   "source": [
    "# Fish Market Dataset - Machine Learning Model"
   ]
  },
  {
   "cell_type": "markdown",
   "id": "b0feb801",
   "metadata": {},
   "source": [
    "## Step 1: Load and Explore Dataset"
   ]
  },
  {
   "cell_type": "code",
   "execution_count": null,
   "id": "16e88463",
   "metadata": {},
   "outputs": [],
   "source": [
    "\n",
    "import pandas as pd\n",
    "\n",
    "# Load dataset\n",
    "df = pd.read_csv(\"Fish.csv\")\n",
    "\n",
    "# Display first few rows\n",
    "df.head()\n"
   ]
  },
  {
   "cell_type": "code",
   "execution_count": null,
   "id": "31992151",
   "metadata": {},
   "outputs": [],
   "source": [
    "\n",
    "# Check data types and missing values\n",
    "df.info()\n",
    "df.isnull().sum()\n"
   ]
  },
  {
   "cell_type": "markdown",
   "id": "56e5e8ad",
   "metadata": {},
   "source": [
    "## Step 2: Exploratory Data Analysis (EDA)"
   ]
  },
  {
   "cell_type": "code",
   "execution_count": null,
   "id": "170c2a98",
   "metadata": {},
   "outputs": [],
   "source": [
    "\n",
    "import matplotlib.pyplot as plt\n",
    "import seaborn as sns\n",
    "\n",
    "# Check distribution of fish species\n",
    "sns.countplot(x='Species', data=df)\n",
    "plt.xticks(rotation=45)\n",
    "plt.title(\"Distribution of Fish Species\")\n",
    "plt.show()\n"
   ]
  },
  {
   "cell_type": "code",
   "execution_count": null,
   "id": "654bd337",
   "metadata": {},
   "outputs": [],
   "source": [
    "\n",
    "# Pairplot to visualize relationships\n",
    "sns.pairplot(df, hue=\"Species\")\n",
    "plt.show()\n"
   ]
  },
  {
   "cell_type": "markdown",
   "id": "d2f87173",
   "metadata": {},
   "source": [
    "## Step 3: Data Preprocessing"
   ]
  },
  {
   "cell_type": "code",
   "execution_count": null,
   "id": "159c51fd",
   "metadata": {},
   "outputs": [],
   "source": [
    "\n",
    "from sklearn.preprocessing import LabelEncoder\n",
    "\n",
    "# Encode species labels\n",
    "encoder = LabelEncoder()\n",
    "df['Species'] = encoder.fit_transform(df['Species'])\n"
   ]
  },
  {
   "cell_type": "code",
   "execution_count": null,
   "id": "71663e16",
   "metadata": {},
   "outputs": [],
   "source": [
    "\n",
    "from sklearn.model_selection import train_test_split\n",
    "\n",
    "# Define features (X) and target (y) for regression\n",
    "X = df.drop(columns=[\"Weight\"])  \n",
    "y = df[\"Weight\"]\n",
    "\n",
    "# Split data\n",
    "X_train, X_test, y_train, y_test = train_test_split(X, y, test_size=0.2, random_state=42)\n"
   ]
  },
  {
   "cell_type": "markdown",
   "id": "368611e9",
   "metadata": {},
   "source": [
    "## Step 4: Train Regression Model (Predicting Weight)"
   ]
  },
  {
   "cell_type": "code",
   "execution_count": null,
   "id": "26e17b7a",
   "metadata": {},
   "outputs": [],
   "source": [
    "\n",
    "from sklearn.linear_model import LinearRegression\n",
    "from sklearn.metrics import mean_absolute_error, mean_squared_error, r2_score\n",
    "\n",
    "# Train model\n",
    "model = LinearRegression()\n",
    "model.fit(X_train, y_train)\n",
    "\n",
    "# Predictions\n",
    "y_pred = model.predict(X_test)\n",
    "\n",
    "# Model Evaluation\n",
    "print(\"Mean Absolute Error:\", mean_absolute_error(y_test, y_pred))\n",
    "print(\"Mean Squared Error:\", mean_squared_error(y_test, y_pred))\n",
    "print(\"R-squared Score:\", r2_score(y_test, y_pred))\n"
   ]
  },
  {
   "cell_type": "markdown",
   "id": "bab422d7",
   "metadata": {},
   "source": [
    "## Step 5: Train Classification Model (Predicting Species)"
   ]
  },
  {
   "cell_type": "code",
   "execution_count": null,
   "id": "a6beacbf",
   "metadata": {},
   "outputs": [],
   "source": [
    "\n",
    "from sklearn.ensemble import RandomForestClassifier\n",
    "from sklearn.metrics import accuracy_score, classification_report\n",
    "\n",
    "# Define features and target for classification\n",
    "X = df.drop(columns=[\"Species\"])  \n",
    "y = df[\"Species\"]\n",
    "\n",
    "# Split data\n",
    "X_train, X_test, y_train, y_test = train_test_split(X, y, test_size=0.2, random_state=42)\n",
    "\n",
    "# Train classifier\n",
    "clf = RandomForestClassifier(n_estimators=100, random_state=42)\n",
    "clf.fit(X_train, y_train)\n",
    "\n",
    "# Predictions\n",
    "y_pred = clf.predict(X_test)\n",
    "\n",
    "# Model Evaluation\n",
    "print(\"Accuracy Score:\", accuracy_score(y_test, y_pred))\n",
    "print(classification_report(y_test, y_pred))\n"
   ]
  },
  {
   "cell_type": "markdown",
   "id": "43d101b0",
   "metadata": {},
   "source": [
    "## Step 6: Hyperparameter Tuning"
   ]
  },
  {
   "cell_type": "code",
   "execution_count": null,
   "id": "fe85b163",
   "metadata": {},
   "outputs": [],
   "source": [
    "\n",
    "from sklearn.preprocessing import StandardScaler\n",
    "from sklearn.model_selection import GridSearchCV\n",
    "\n",
    "# Scale numerical features\n",
    "scaler = StandardScaler()\n",
    "X_train_scaled = scaler.fit_transform(X_train)\n",
    "X_test_scaled = scaler.transform(X_test)\n",
    "\n",
    "# Hyperparameter tuning for RandomForest\n",
    "param_grid = {'n_estimators': [50, 100, 200], 'max_depth': [None, 10, 20]}\n",
    "grid_search = GridSearchCV(RandomForestClassifier(), param_grid, cv=5)\n",
    "grid_search.fit(X_train_scaled, y_train)\n",
    "\n",
    "print(\"Best Parameters:\", grid_search.best_params_)\n",
    "print(\"Best Score:\", grid_search.best_score_)\n"
   ]
  },
  {
   "cell_type": "markdown",
   "id": "4fa77d4a",
   "metadata": {},
   "source": [
    "## Step 7: Save and Load Model"
   ]
  },
  {
   "cell_type": "code",
   "execution_count": null,
   "id": "772f7865",
   "metadata": {},
   "outputs": [],
   "source": [
    "\n",
    "import joblib\n",
    "\n",
    "# Save the model\n",
    "joblib.dump(model, \"fish_market_model.pkl\")\n",
    "\n",
    "# Load the model for future predictions\n",
    "loaded_model = joblib.load(\"fish_market_model.pkl\")\n"
   ]
  }
 ],
 "metadata": {},
 "nbformat": 4,
 "nbformat_minor": 5
}
